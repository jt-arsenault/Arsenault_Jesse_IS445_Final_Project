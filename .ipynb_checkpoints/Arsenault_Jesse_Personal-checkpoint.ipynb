{
 "cells": [
  {
   "cell_type": "code",
   "execution_count": 1,
   "id": "934e6958",
   "metadata": {},
   "outputs": [],
   "source": [
    "import matplotlib.pyplot as plt\n",
    "import pandas as pd"
   ]
  },
  {
   "cell_type": "markdown",
   "id": "f6bc7d26",
   "metadata": {},
   "source": [
    "# Final Project - Individual Component\n",
    "\n",
    "## Background\n",
    "This Environmental Protection Agency data was obtained from [data.gov](https://data.gov). It tracks greenhouse gas emissions (in kilograms of $\\text{CO}_2$ equivalents divided by the purchaser price in 2021 US Dollars) from the supply chains of various industries, categorized and reported by NAICS code. \n",
    "\n",
    "## About the Data\n",
    "- **Dataset Name:** Supply Chain Greenhouse Gas Emission Factors v1.2 by NAICS-6\n",
    "- **URL for obtaining data:** https://catalog.data.gov/dataset/supply-chain-greenhouse-gas-emission-factors-v1-2-by-naics-6\n",
    "- **License:** EPA Data is Public Domain by default - [details here](https://pasteur.epa.gov/license/sciencehub-license.html)\n",
    "- **Size:** data set is **1016 rows by 8 columns**; csv file is **121KB**\n",
    "\n",
    "## Details\n",
    "The NAICS classification system opens up several pathways for visualizing this data, as the different sections of the numeric NAICS code indicate different business activities, with increasing specificity moving from leftmost to rightmost digit. For example, the first couple digits indicate the broadest category, such as Agriculture (`11`) or Manufacturing (`32`).\n",
    "\n",
    "I demonstrate below that the **GHG** and **Unit** columns contain only one type of value: \"All GHGs\" for the former and \"kg CO2e/2021 USD, purchaser price\" for the latter.\n",
    "\n",
    "The next three columns record supply chain emission factors without margins, the margins themselves, and the total emission factors with margins included. "
   ]
  },
  {
   "cell_type": "code",
   "execution_count": 2,
   "id": "3009b295",
   "metadata": {},
   "outputs": [],
   "source": [
    "emissions_df = pd.read_csv('./SupplyChainGHGEmissionFactors_v1.2_NAICS_CO2e_USD2021.csv')"
   ]
  },
  {
   "cell_type": "code",
   "execution_count": 3,
   "id": "33fdf4fc",
   "metadata": {},
   "outputs": [
    {
     "data": {
      "text/html": [
       "<div>\n",
       "<style scoped>\n",
       "    .dataframe tbody tr th:only-of-type {\n",
       "        vertical-align: middle;\n",
       "    }\n",
       "\n",
       "    .dataframe tbody tr th {\n",
       "        vertical-align: top;\n",
       "    }\n",
       "\n",
       "    .dataframe thead th {\n",
       "        text-align: right;\n",
       "    }\n",
       "</style>\n",
       "<table border=\"1\" class=\"dataframe\">\n",
       "  <thead>\n",
       "    <tr style=\"text-align: right;\">\n",
       "      <th></th>\n",
       "      <th>2017 NAICS Code</th>\n",
       "      <th>2017 NAICS Title</th>\n",
       "      <th>GHG</th>\n",
       "      <th>Unit</th>\n",
       "      <th>Supply Chain Emission Factors without Margins</th>\n",
       "      <th>Margins of Supply Chain Emission Factors</th>\n",
       "      <th>Supply Chain Emission Factors with Margins</th>\n",
       "      <th>Reference USEEIO Code</th>\n",
       "    </tr>\n",
       "  </thead>\n",
       "  <tbody>\n",
       "    <tr>\n",
       "      <th>0</th>\n",
       "      <td>111110</td>\n",
       "      <td>Soybean Farming</td>\n",
       "      <td>All GHGs</td>\n",
       "      <td>kg CO2e/2021 USD, purchaser price</td>\n",
       "      <td>1.223</td>\n",
       "      <td>0.103</td>\n",
       "      <td>1.326</td>\n",
       "      <td>1111A0</td>\n",
       "    </tr>\n",
       "    <tr>\n",
       "      <th>1</th>\n",
       "      <td>111120</td>\n",
       "      <td>Oilseed (except Soybean) Farming</td>\n",
       "      <td>All GHGs</td>\n",
       "      <td>kg CO2e/2021 USD, purchaser price</td>\n",
       "      <td>1.223</td>\n",
       "      <td>0.103</td>\n",
       "      <td>1.326</td>\n",
       "      <td>1111A0</td>\n",
       "    </tr>\n",
       "    <tr>\n",
       "      <th>2</th>\n",
       "      <td>111130</td>\n",
       "      <td>Dry Pea and Bean Farming</td>\n",
       "      <td>All GHGs</td>\n",
       "      <td>kg CO2e/2021 USD, purchaser price</td>\n",
       "      <td>2.874</td>\n",
       "      <td>0.134</td>\n",
       "      <td>3.007</td>\n",
       "      <td>1111B0</td>\n",
       "    </tr>\n",
       "    <tr>\n",
       "      <th>3</th>\n",
       "      <td>111140</td>\n",
       "      <td>Wheat Farming</td>\n",
       "      <td>All GHGs</td>\n",
       "      <td>kg CO2e/2021 USD, purchaser price</td>\n",
       "      <td>2.874</td>\n",
       "      <td>0.134</td>\n",
       "      <td>3.007</td>\n",
       "      <td>1111B0</td>\n",
       "    </tr>\n",
       "    <tr>\n",
       "      <th>4</th>\n",
       "      <td>111150</td>\n",
       "      <td>Corn Farming</td>\n",
       "      <td>All GHGs</td>\n",
       "      <td>kg CO2e/2021 USD, purchaser price</td>\n",
       "      <td>2.874</td>\n",
       "      <td>0.134</td>\n",
       "      <td>3.007</td>\n",
       "      <td>1111B0</td>\n",
       "    </tr>\n",
       "    <tr>\n",
       "      <th>...</th>\n",
       "      <td>...</td>\n",
       "      <td>...</td>\n",
       "      <td>...</td>\n",
       "      <td>...</td>\n",
       "      <td>...</td>\n",
       "      <td>...</td>\n",
       "      <td>...</td>\n",
       "      <td>...</td>\n",
       "    </tr>\n",
       "    <tr>\n",
       "      <th>1011</th>\n",
       "      <td>813910</td>\n",
       "      <td>Business Associations</td>\n",
       "      <td>All GHGs</td>\n",
       "      <td>kg CO2e/2021 USD, purchaser price</td>\n",
       "      <td>0.136</td>\n",
       "      <td>0.000</td>\n",
       "      <td>0.136</td>\n",
       "      <td>813B00</td>\n",
       "    </tr>\n",
       "    <tr>\n",
       "      <th>1012</th>\n",
       "      <td>813920</td>\n",
       "      <td>Professional Organizations</td>\n",
       "      <td>All GHGs</td>\n",
       "      <td>kg CO2e/2021 USD, purchaser price</td>\n",
       "      <td>0.136</td>\n",
       "      <td>0.000</td>\n",
       "      <td>0.136</td>\n",
       "      <td>813B00</td>\n",
       "    </tr>\n",
       "    <tr>\n",
       "      <th>1013</th>\n",
       "      <td>813930</td>\n",
       "      <td>Labor Unions and Similar Labor Organizations</td>\n",
       "      <td>All GHGs</td>\n",
       "      <td>kg CO2e/2021 USD, purchaser price</td>\n",
       "      <td>0.136</td>\n",
       "      <td>0.000</td>\n",
       "      <td>0.136</td>\n",
       "      <td>813B00</td>\n",
       "    </tr>\n",
       "    <tr>\n",
       "      <th>1014</th>\n",
       "      <td>813940</td>\n",
       "      <td>Political Organizations</td>\n",
       "      <td>All GHGs</td>\n",
       "      <td>kg CO2e/2021 USD, purchaser price</td>\n",
       "      <td>0.136</td>\n",
       "      <td>0.000</td>\n",
       "      <td>0.136</td>\n",
       "      <td>813B00</td>\n",
       "    </tr>\n",
       "    <tr>\n",
       "      <th>1015</th>\n",
       "      <td>813990</td>\n",
       "      <td>Other Similar Organizations (except Business, ...</td>\n",
       "      <td>All GHGs</td>\n",
       "      <td>kg CO2e/2021 USD, purchaser price</td>\n",
       "      <td>0.136</td>\n",
       "      <td>0.000</td>\n",
       "      <td>0.136</td>\n",
       "      <td>813B00</td>\n",
       "    </tr>\n",
       "  </tbody>\n",
       "</table>\n",
       "<p>1016 rows × 8 columns</p>\n",
       "</div>"
      ],
      "text/plain": [
       "      2017 NAICS Code                                   2017 NAICS Title  \\\n",
       "0              111110                                    Soybean Farming   \n",
       "1              111120                   Oilseed (except Soybean) Farming   \n",
       "2              111130                           Dry Pea and Bean Farming   \n",
       "3              111140                                      Wheat Farming   \n",
       "4              111150                                       Corn Farming   \n",
       "...               ...                                                ...   \n",
       "1011           813910                              Business Associations   \n",
       "1012           813920                         Professional Organizations   \n",
       "1013           813930       Labor Unions and Similar Labor Organizations   \n",
       "1014           813940                            Political Organizations   \n",
       "1015           813990  Other Similar Organizations (except Business, ...   \n",
       "\n",
       "           GHG                               Unit  \\\n",
       "0     All GHGs  kg CO2e/2021 USD, purchaser price   \n",
       "1     All GHGs  kg CO2e/2021 USD, purchaser price   \n",
       "2     All GHGs  kg CO2e/2021 USD, purchaser price   \n",
       "3     All GHGs  kg CO2e/2021 USD, purchaser price   \n",
       "4     All GHGs  kg CO2e/2021 USD, purchaser price   \n",
       "...        ...                                ...   \n",
       "1011  All GHGs  kg CO2e/2021 USD, purchaser price   \n",
       "1012  All GHGs  kg CO2e/2021 USD, purchaser price   \n",
       "1013  All GHGs  kg CO2e/2021 USD, purchaser price   \n",
       "1014  All GHGs  kg CO2e/2021 USD, purchaser price   \n",
       "1015  All GHGs  kg CO2e/2021 USD, purchaser price   \n",
       "\n",
       "      Supply Chain Emission Factors without Margins  \\\n",
       "0                                             1.223   \n",
       "1                                             1.223   \n",
       "2                                             2.874   \n",
       "3                                             2.874   \n",
       "4                                             2.874   \n",
       "...                                             ...   \n",
       "1011                                          0.136   \n",
       "1012                                          0.136   \n",
       "1013                                          0.136   \n",
       "1014                                          0.136   \n",
       "1015                                          0.136   \n",
       "\n",
       "      Margins of Supply Chain Emission Factors  \\\n",
       "0                                        0.103   \n",
       "1                                        0.103   \n",
       "2                                        0.134   \n",
       "3                                        0.134   \n",
       "4                                        0.134   \n",
       "...                                        ...   \n",
       "1011                                     0.000   \n",
       "1012                                     0.000   \n",
       "1013                                     0.000   \n",
       "1014                                     0.000   \n",
       "1015                                     0.000   \n",
       "\n",
       "      Supply Chain Emission Factors with Margins Reference USEEIO Code  \n",
       "0                                          1.326                1111A0  \n",
       "1                                          1.326                1111A0  \n",
       "2                                          3.007                1111B0  \n",
       "3                                          3.007                1111B0  \n",
       "4                                          3.007                1111B0  \n",
       "...                                          ...                   ...  \n",
       "1011                                       0.136                813B00  \n",
       "1012                                       0.136                813B00  \n",
       "1013                                       0.136                813B00  \n",
       "1014                                       0.136                813B00  \n",
       "1015                                       0.136                813B00  \n",
       "\n",
       "[1016 rows x 8 columns]"
      ]
     },
     "execution_count": 3,
     "metadata": {},
     "output_type": "execute_result"
    }
   ],
   "source": [
    "emissions_df"
   ]
  },
  {
   "cell_type": "code",
   "execution_count": 4,
   "id": "0c950225",
   "metadata": {
    "scrolled": true
   },
   "outputs": [
    {
     "data": {
      "text/plain": [
       "0       111110\n",
       "1       111120\n",
       "2       111130\n",
       "3       111140\n",
       "4       111150\n",
       "         ...  \n",
       "1011    813910\n",
       "1012    813920\n",
       "1013    813930\n",
       "1014    813940\n",
       "1015    813990\n",
       "Name: 2017 NAICS Code, Length: 1016, dtype: int64"
      ]
     },
     "execution_count": 4,
     "metadata": {},
     "output_type": "execute_result"
    }
   ],
   "source": [
    "# NAICS codes provide information about the business category\n",
    "naics_codes = emissions_df[\"2017 NAICS Code\"]\n",
    "naics_codes"
   ]
  },
  {
   "cell_type": "markdown",
   "id": "e163fc12",
   "metadata": {},
   "source": []
  },
  {
   "cell_type": "code",
   "execution_count": 19,
   "id": "3b498683",
   "metadata": {},
   "outputs": [
    {
     "data": {
      "text/plain": [
       "1016"
      ]
     },
     "execution_count": 19,
     "metadata": {},
     "output_type": "execute_result"
    }
   ],
   "source": [
    "# I wasn't sure if there were repeats in the data. This confirms that every row of the data set is a unique NAICS code.\n",
    "naics_codes_unique = emissions_df[\"2017 NAICS Code\"].unique()\n",
    "naics_codes_unique.size"
   ]
  },
  {
   "cell_type": "markdown",
   "id": "936f6356",
   "metadata": {},
   "source": [
    "## Comparing Emissions \"With Margins\" and \"Without Margins\"\n",
    "These scatter plots show the distribution of emissions by NAICS code. The margins seem to be very small adjustments across the board, since the two plots are essentially identical."
   ]
  },
  {
   "cell_type": "code",
   "execution_count": 5,
   "id": "0d5838b0",
   "metadata": {},
   "outputs": [],
   "source": [
    "emissions_no_margins = emissions_df[\"Supply Chain Emission Factors without Margins\"]\n",
    "emissions_margins = emissions_df[\"Supply Chain Emission Factors with Margins\"]"
   ]
  },
  {
   "cell_type": "code",
   "execution_count": 26,
   "id": "ed03aba5",
   "metadata": {},
   "outputs": [
    {
     "data": {
      "image/png": "[encoded data removed]",
      "text/plain": [
       "<Figure size 640x480 with 1 Axes>"
      ]
     },
     "metadata": {},
     "output_type": "display_data"
    }
   ],
   "source": [
    "plt.scatter(naics_codes, emissions_no_margins)\n",
    "plt.show()"
   ]
  },
  {
   "cell_type": "code",
   "execution_count": 7,
   "id": "ff44196e",
   "metadata": {
    "scrolled": true
   },
   "outputs": [
    {
     "data": {
      "image/png": "[encoded data removed]",
      "text/plain": [
       "<Figure size 640x480 with 1 Axes>"
      ]
     },
     "metadata": {},
     "output_type": "display_data"
    }
   ],
   "source": [
    "plt.scatter(naics_codes, emissions_margins)\n",
    "plt.show()"
   ]
  },
  {
   "cell_type": "markdown",
   "id": "a95b76b3",
   "metadata": {},
   "source": [
    "We can see that higher emissions tend to occur in the supply chains of industries with NAICS codes below 600000. The higher NAICS identifiers, associated with low emissions, represent the following categories:\n",
    "\n",
    "| First two digits | Category |\n",
    "| --- | --- |\n",
    "| 61 |\tEducational Services |\n",
    "| 62 |\tHealth Care and Social Assistance |\n",
    "| 71 |\tArts, Entertainment, and Recreation |\n",
    "| 72 |\tAccommodation and Food Services |\n",
    "| 81 |\tOther Services (except Public Administration) |\n",
    "| 92 |\tPublic Administration (not covered in economic census)| "
   ]
  },
  {
   "cell_type": "markdown",
   "id": "1ca6f35e",
   "metadata": {},
   "source": [
    "## Checking Units and Obtaining Summary Statistics\n",
    "I count the number of **GHG** and **Unit** values that equal any value other than \"All GHGs\" and \"kg CO2e/2021 USD, purchaser price\". \n",
    "Both counts come to `0`, confirming that all measurements are in the same units.\n",
    "\n",
    "Next, I use `describe()` to see a quantitative breakdown of the data set."
   ]
  },
  {
   "cell_type": "code",
   "execution_count": 8,
   "id": "6c448cbd",
   "metadata": {},
   "outputs": [
    {
     "data": {
      "text/plain": [
       "0"
      ]
     },
     "execution_count": 8,
     "metadata": {},
     "output_type": "execute_result"
    }
   ],
   "source": [
    "other_emissions = emissions_df[\"GHG\"].ne(\"All GHGs\").sum()\n",
    "other_emissions"
   ]
  },
  {
   "cell_type": "code",
   "execution_count": 9,
   "id": "af3630eb",
   "metadata": {},
   "outputs": [
    {
     "data": {
      "text/plain": [
       "0"
      ]
     },
     "execution_count": 9,
     "metadata": {},
     "output_type": "execute_result"
    }
   ],
   "source": [
    "other_units = emissions_df[\"Unit\"].ne(\"kg CO2e/2021 USD, purchaser price\").sum()\n",
    "other_units"
   ]
  },
  {
   "cell_type": "code",
   "execution_count": 10,
   "id": "6f6b34cf",
   "metadata": {},
   "outputs": [
    {
     "data": {
      "text/html": [
       "<div>\n",
       "<style scoped>\n",
       "    .dataframe tbody tr th:only-of-type {\n",
       "        vertical-align: middle;\n",
       "    }\n",
       "\n",
       "    .dataframe tbody tr th {\n",
       "        vertical-align: top;\n",
       "    }\n",
       "\n",
       "    .dataframe thead th {\n",
       "        text-align: right;\n",
       "    }\n",
       "</style>\n",
       "<table border=\"1\" class=\"dataframe\">\n",
       "  <thead>\n",
       "    <tr style=\"text-align: right;\">\n",
       "      <th></th>\n",
       "      <th>Supply Chain Emission Factors without Margins</th>\n",
       "    </tr>\n",
       "  </thead>\n",
       "  <tbody>\n",
       "    <tr>\n",
       "      <th>count</th>\n",
       "      <td>1016.00000</td>\n",
       "    </tr>\n",
       "    <tr>\n",
       "      <th>mean</th>\n",
       "      <td>0.35787</td>\n",
       "    </tr>\n",
       "    <tr>\n",
       "      <th>std</th>\n",
       "      <td>0.55562</td>\n",
       "    </tr>\n",
       "    <tr>\n",
       "      <th>min</th>\n",
       "      <td>0.01300</td>\n",
       "    </tr>\n",
       "    <tr>\n",
       "      <th>25%</th>\n",
       "      <td>0.12300</td>\n",
       "    </tr>\n",
       "    <tr>\n",
       "      <th>50%</th>\n",
       "      <td>0.18700</td>\n",
       "    </tr>\n",
       "    <tr>\n",
       "      <th>75%</th>\n",
       "      <td>0.40150</td>\n",
       "    </tr>\n",
       "    <tr>\n",
       "      <th>max</th>\n",
       "      <td>10.98900</td>\n",
       "    </tr>\n",
       "  </tbody>\n",
       "</table>\n",
       "</div>"
      ],
      "text/plain": [
       "       Supply Chain Emission Factors without Margins\n",
       "count                                     1016.00000\n",
       "mean                                         0.35787\n",
       "std                                          0.55562\n",
       "min                                          0.01300\n",
       "25%                                          0.12300\n",
       "50%                                          0.18700\n",
       "75%                                          0.40150\n",
       "max                                         10.98900"
      ]
     },
     "execution_count": 10,
     "metadata": {},
     "output_type": "execute_result"
    }
   ],
   "source": [
    "# We can use summary statistics to numerically explore the emissions totals\n",
    "emissions_df[[\"Supply Chain Emission Factors without Margins\"]].describe()"
   ]
  },
  {
   "cell_type": "code",
   "execution_count": 11,
   "id": "83c4addb",
   "metadata": {
    "scrolled": true
   },
   "outputs": [
    {
     "data": {
      "text/html": [
       "<div>\n",
       "<style scoped>\n",
       "    .dataframe tbody tr th:only-of-type {\n",
       "        vertical-align: middle;\n",
       "    }\n",
       "\n",
       "    .dataframe tbody tr th {\n",
       "        vertical-align: top;\n",
       "    }\n",
       "\n",
       "    .dataframe thead th {\n",
       "        text-align: right;\n",
       "    }\n",
       "</style>\n",
       "<table border=\"1\" class=\"dataframe\">\n",
       "  <thead>\n",
       "    <tr style=\"text-align: right;\">\n",
       "      <th></th>\n",
       "      <th>Supply Chain Emission Factors with Margins</th>\n",
       "    </tr>\n",
       "  </thead>\n",
       "  <tbody>\n",
       "    <tr>\n",
       "      <th>count</th>\n",
       "      <td>1016.000000</td>\n",
       "    </tr>\n",
       "    <tr>\n",
       "      <th>mean</th>\n",
       "      <td>0.386014</td>\n",
       "    </tr>\n",
       "    <tr>\n",
       "      <th>std</th>\n",
       "      <td>0.569845</td>\n",
       "    </tr>\n",
       "    <tr>\n",
       "      <th>min</th>\n",
       "      <td>0.013000</td>\n",
       "    </tr>\n",
       "    <tr>\n",
       "      <th>25%</th>\n",
       "      <td>0.128750</td>\n",
       "    </tr>\n",
       "    <tr>\n",
       "      <th>50%</th>\n",
       "      <td>0.208000</td>\n",
       "    </tr>\n",
       "    <tr>\n",
       "      <th>75%</th>\n",
       "      <td>0.448250</td>\n",
       "    </tr>\n",
       "    <tr>\n",
       "      <th>max</th>\n",
       "      <td>10.989000</td>\n",
       "    </tr>\n",
       "  </tbody>\n",
       "</table>\n",
       "</div>"
      ],
      "text/plain": [
       "       Supply Chain Emission Factors with Margins\n",
       "count                                 1016.000000\n",
       "mean                                     0.386014\n",
       "std                                      0.569845\n",
       "min                                      0.013000\n",
       "25%                                      0.128750\n",
       "50%                                      0.208000\n",
       "75%                                      0.448250\n",
       "max                                     10.989000"
      ]
     },
     "execution_count": 11,
     "metadata": {},
     "output_type": "execute_result"
    }
   ],
   "source": [
    "emissions_df[[\"Supply Chain Emission Factors with Margins\"]].describe()"
   ]
  },
  {
   "cell_type": "code",
   "execution_count": 58,
   "id": "c2d29f96",
   "metadata": {
    "scrolled": false
   },
   "outputs": [
    {
     "data": {
      "image/png": "[encoded data removed]",
      "text/plain": [
       "<Figure size 640x480 with 1 Axes>"
      ]
     },
     "metadata": {},
     "output_type": "display_data"
    }
   ],
   "source": [
    "\n",
    "one = emissions_df[(emissions_df[\"2017 NAICS Code\"] < 200000)][\"Supply Chain Emission Factors with Margins\"]\n",
    "two = emissions_df[(emissions_df[\"2017 NAICS Code\"] < 300000) & (emissions_df[\"2017 NAICS Code\"] >= 200000)][\"Supply Chain Emission Factors with Margins\"]\n",
    "three = emissions_df[(emissions_df[\"2017 NAICS Code\"] < 400000) & (emissions_df[\"2017 NAICS Code\"] >= 300000)][\"Supply Chain Emission Factors with Margins\"]\n",
    "four = emissions_df[(emissions_df[\"2017 NAICS Code\"] < 500000) & (emissions_df[\"2017 NAICS Code\"] >= 400000)][\"Supply Chain Emission Factors with Margins\"]\n",
    "five = emissions_df[(emissions_df[\"2017 NAICS Code\"] < 600000) & (emissions_df[\"2017 NAICS Code\"] >= 500000)][\"Supply Chain Emission Factors with Margins\"]\n",
    "six = emissions_df[(emissions_df[\"2017 NAICS Code\"] < 700000) & (emissions_df[\"2017 NAICS Code\"] >= 600000)][\"Supply Chain Emission Factors with Margins\"]\n",
    "seven = emissions_df[(emissions_df[\"2017 NAICS Code\"] < 800000) & (emissions_df[\"2017 NAICS Code\"] >= 700000)][\"Supply Chain Emission Factors with Margins\"]\n",
    "eight = emissions_df[(emissions_df[\"2017 NAICS Code\"] < 900000) & (emissions_df[\"2017 NAICS Code\"] >= 800000)][\"Supply Chain Emission Factors with Margins\"]\n",
    "nine = emissions_df[(emissions_df[\"2017 NAICS Code\"] < 100000) & (emissions_df[\"2017 NAICS Code\"] >= 900000)][\"Supply Chain Emission Factors with Margins\"]\n",
    "\n",
    "index = [1, 2, 3, 4, 5, 6, 7, 8, 9]\n",
    "means = [one.mean(), two.mean(), three.mean(), four.mean(), five.mean(), six.mean(), seven.mean(), eight.mean(), nine.mean()]\n",
    "counts = [one.count(), two.count(), three.count(), four.count(), five.count(), six.count(), seven.count(), eight.count(), nine.count()]\n",
    "medians = [one.median(), two.median(), three.median(), four.median(), five.median(), six.median(), seven.median(), eight.median(), nine.median()]\n",
    "plt.scatter(index, means) \n",
    "plt.show()"
   ]
  },
  {
   "cell_type": "code",
   "execution_count": 57,
   "id": "b2f2e794",
   "metadata": {
    "scrolled": true
   },
   "outputs": [
    {
     "data": {
      "image/png": "[encoded data removed]",
      "text/plain": [
       "<Figure size 640x480 with 1 Axes>"
      ]
     },
     "metadata": {},
     "output_type": "display_data"
    }
   ],
   "source": [
    "plt.scatter(index, medians)\n",
    "plt.show()"
   ]
  },
  {
   "cell_type": "code",
   "execution_count": 59,
   "id": "868629cc",
   "metadata": {},
   "outputs": [
    {
     "data": {
      "image/png": "[encoded data removed]",
      "text/plain": [
       "<Figure size 640x480 with 1 Axes>"
      ]
     },
     "metadata": {},
     "output_type": "display_data"
    }
   ],
   "source": [
    "plt.scatter(index, counts)\n",
    "plt.show()"
   ]
  },
  {
   "cell_type": "markdown",
   "id": "7a4f80c7",
   "metadata": {},
   "source": [
    "### How do Margins Affect the Summary Statistics?\n",
    "We can calculate the mean and median with and without the margins included. The differences in these measures can help us see whether or not there is a drastic shift from one to the other."
   ]
  },
  {
   "cell_type": "code",
   "execution_count": 21,
   "id": "49e52361",
   "metadata": {},
   "outputs": [],
   "source": [
    "median_with = float(emissions_df[[\"Supply Chain Emission Factors with Margins\"]].median())\n",
    "median_without = float(emissions_df[[\"Supply Chain Emission Factors without Margins\"]].median())\n",
    "\n",
    "mean_with = float(emissions_df[[\"Supply Chain Emission Factors with Margins\"]].mean())\n",
    "mean_without = float(emissions_df[[\"Supply Chain Emission Factors without Margins\"]].mean())"
   ]
  },
  {
   "cell_type": "code",
   "execution_count": 22,
   "id": "203f4195",
   "metadata": {},
   "outputs": [
    {
     "data": {
      "text/plain": [
       "0.02099999999999999"
      ]
     },
     "execution_count": 22,
     "metadata": {},
     "output_type": "execute_result"
    }
   ],
   "source": [
    "# Difference in median when margins are included\n",
    "median_with-median_without"
   ]
  },
  {
   "cell_type": "code",
   "execution_count": 23,
   "id": "7ffec0d1",
   "metadata": {
    "scrolled": true
   },
   "outputs": [
    {
     "data": {
      "text/plain": [
       "0.028143700787401527"
      ]
     },
     "execution_count": 23,
     "metadata": {},
     "output_type": "execute_result"
    }
   ],
   "source": [
    "# Difference in mean when margins are included\n",
    "mean_with-mean_without"
   ]
  },
  {
   "cell_type": "markdown",
   "id": "14dfb670",
   "metadata": {},
   "source": [
    "This further confirms that the statistical shift \"with margins\"  is rather small, as we suspected from the two plots above."
   ]
  },
  {
   "cell_type": "markdown",
   "id": "fc411f01",
   "metadata": {},
   "source": [
    "### Analysis\n",
    "Values in the emissions column range from near-zero (`0.013`) to `10.989`. However, based on the graphs above, the **max** value may be an outlier. The mean (`0.35787`) and third quartile (`0.4015`) are both much lower than 10.\n",
    "\n",
    "However, there are some other values greater than 1 and less than 5, which indicates that some industries or businesses may just emit significantly more. \n",
    "\n",
    "### Extreme Highs of the Dataset\n",
    "We can view the extreme end of the NAICS codes by filtering out emissions values less than 2:"
   ]
  },
  {
   "cell_type": "code",
   "execution_count": 24,
   "id": "a056f349",
   "metadata": {},
   "outputs": [
    {
     "data": {
      "text/html": [
       "<div>\n",
       "<style scoped>\n",
       "    .dataframe tbody tr th:only-of-type {\n",
       "        vertical-align: middle;\n",
       "    }\n",
       "\n",
       "    .dataframe tbody tr th {\n",
       "        vertical-align: top;\n",
       "    }\n",
       "\n",
       "    .dataframe thead th {\n",
       "        text-align: right;\n",
       "    }\n",
       "</style>\n",
       "<table border=\"1\" class=\"dataframe\">\n",
       "  <thead>\n",
       "    <tr style=\"text-align: right;\">\n",
       "      <th></th>\n",
       "      <th>2017 NAICS Code</th>\n",
       "      <th>2017 NAICS Title</th>\n",
       "      <th>GHG</th>\n",
       "      <th>Unit</th>\n",
       "      <th>Supply Chain Emission Factors without Margins</th>\n",
       "      <th>Margins of Supply Chain Emission Factors</th>\n",
       "      <th>Supply Chain Emission Factors with Margins</th>\n",
       "      <th>Reference USEEIO Code</th>\n",
       "    </tr>\n",
       "  </thead>\n",
       "  <tbody>\n",
       "    <tr>\n",
       "      <th>2</th>\n",
       "      <td>111130</td>\n",
       "      <td>Dry Pea and Bean Farming</td>\n",
       "      <td>All GHGs</td>\n",
       "      <td>kg CO2e/2021 USD, purchaser price</td>\n",
       "      <td>2.874</td>\n",
       "      <td>0.134</td>\n",
       "      <td>3.007</td>\n",
       "      <td>1111B0</td>\n",
       "    </tr>\n",
       "    <tr>\n",
       "      <th>3</th>\n",
       "      <td>111140</td>\n",
       "      <td>Wheat Farming</td>\n",
       "      <td>All GHGs</td>\n",
       "      <td>kg CO2e/2021 USD, purchaser price</td>\n",
       "      <td>2.874</td>\n",
       "      <td>0.134</td>\n",
       "      <td>3.007</td>\n",
       "      <td>1111B0</td>\n",
       "    </tr>\n",
       "    <tr>\n",
       "      <th>4</th>\n",
       "      <td>111150</td>\n",
       "      <td>Corn Farming</td>\n",
       "      <td>All GHGs</td>\n",
       "      <td>kg CO2e/2021 USD, purchaser price</td>\n",
       "      <td>2.874</td>\n",
       "      <td>0.134</td>\n",
       "      <td>3.007</td>\n",
       "      <td>1111B0</td>\n",
       "    </tr>\n",
       "    <tr>\n",
       "      <th>5</th>\n",
       "      <td>111160</td>\n",
       "      <td>Rice Farming</td>\n",
       "      <td>All GHGs</td>\n",
       "      <td>kg CO2e/2021 USD, purchaser price</td>\n",
       "      <td>2.874</td>\n",
       "      <td>0.134</td>\n",
       "      <td>3.007</td>\n",
       "      <td>1111B0</td>\n",
       "    </tr>\n",
       "    <tr>\n",
       "      <th>6</th>\n",
       "      <td>111191</td>\n",
       "      <td>Oilseed and Grain Combination Farming</td>\n",
       "      <td>All GHGs</td>\n",
       "      <td>kg CO2e/2021 USD, purchaser price</td>\n",
       "      <td>2.874</td>\n",
       "      <td>0.134</td>\n",
       "      <td>3.007</td>\n",
       "      <td>1111B0</td>\n",
       "    </tr>\n",
       "    <tr>\n",
       "      <th>7</th>\n",
       "      <td>111199</td>\n",
       "      <td>All Other Grain Farming</td>\n",
       "      <td>All GHGs</td>\n",
       "      <td>kg CO2e/2021 USD, purchaser price</td>\n",
       "      <td>2.874</td>\n",
       "      <td>0.134</td>\n",
       "      <td>3.007</td>\n",
       "      <td>1111B0</td>\n",
       "    </tr>\n",
       "    <tr>\n",
       "      <th>30</th>\n",
       "      <td>112111</td>\n",
       "      <td>Beef Cattle Ranching and Farming</td>\n",
       "      <td>All GHGs</td>\n",
       "      <td>kg CO2e/2021 USD, purchaser price</td>\n",
       "      <td>3.227</td>\n",
       "      <td>0.071</td>\n",
       "      <td>3.298</td>\n",
       "      <td>1121A0</td>\n",
       "    </tr>\n",
       "    <tr>\n",
       "      <th>31</th>\n",
       "      <td>112112</td>\n",
       "      <td>Cattle Feedlots</td>\n",
       "      <td>All GHGs</td>\n",
       "      <td>kg CO2e/2021 USD, purchaser price</td>\n",
       "      <td>3.227</td>\n",
       "      <td>0.071</td>\n",
       "      <td>3.298</td>\n",
       "      <td>1121A0</td>\n",
       "    </tr>\n",
       "    <tr>\n",
       "      <th>32</th>\n",
       "      <td>112120</td>\n",
       "      <td>Dairy Cattle and Milk Production</td>\n",
       "      <td>All GHGs</td>\n",
       "      <td>kg CO2e/2021 USD, purchaser price</td>\n",
       "      <td>2.502</td>\n",
       "      <td>0.076</td>\n",
       "      <td>2.578</td>\n",
       "      <td>112120</td>\n",
       "    </tr>\n",
       "    <tr>\n",
       "      <th>33</th>\n",
       "      <td>112130</td>\n",
       "      <td>Dual-Purpose Cattle Ranching and Farming</td>\n",
       "      <td>All GHGs</td>\n",
       "      <td>kg CO2e/2021 USD, purchaser price</td>\n",
       "      <td>3.227</td>\n",
       "      <td>0.071</td>\n",
       "      <td>3.298</td>\n",
       "      <td>1121A0</td>\n",
       "    </tr>\n",
       "    <tr>\n",
       "      <th>244</th>\n",
       "      <td>325311</td>\n",
       "      <td>Nitrogenous Fertilizer Manufacturing</td>\n",
       "      <td>All GHGs</td>\n",
       "      <td>kg CO2e/2021 USD, purchaser price</td>\n",
       "      <td>2.029</td>\n",
       "      <td>0.086</td>\n",
       "      <td>2.115</td>\n",
       "      <td>325310</td>\n",
       "    </tr>\n",
       "    <tr>\n",
       "      <th>245</th>\n",
       "      <td>325312</td>\n",
       "      <td>Phosphatic Fertilizer Manufacturing</td>\n",
       "      <td>All GHGs</td>\n",
       "      <td>kg CO2e/2021 USD, purchaser price</td>\n",
       "      <td>2.029</td>\n",
       "      <td>0.086</td>\n",
       "      <td>2.115</td>\n",
       "      <td>325310</td>\n",
       "    </tr>\n",
       "    <tr>\n",
       "      <th>246</th>\n",
       "      <td>325314</td>\n",
       "      <td>Fertilizer (Mixing Only) Manufacturing</td>\n",
       "      <td>All GHGs</td>\n",
       "      <td>kg CO2e/2021 USD, purchaser price</td>\n",
       "      <td>2.029</td>\n",
       "      <td>0.086</td>\n",
       "      <td>2.115</td>\n",
       "      <td>325310</td>\n",
       "    </tr>\n",
       "    <tr>\n",
       "      <th>285</th>\n",
       "      <td>327310</td>\n",
       "      <td>Cement Manufacturing</td>\n",
       "      <td>All GHGs</td>\n",
       "      <td>kg CO2e/2021 USD, purchaser price</td>\n",
       "      <td>3.768</td>\n",
       "      <td>0.090</td>\n",
       "      <td>3.858</td>\n",
       "      <td>327310</td>\n",
       "    </tr>\n",
       "    <tr>\n",
       "      <th>865</th>\n",
       "      <td>562212</td>\n",
       "      <td>Solid Waste Landfill</td>\n",
       "      <td>All GHGs</td>\n",
       "      <td>kg CO2e/2021 USD, purchaser price</td>\n",
       "      <td>10.989</td>\n",
       "      <td>0.000</td>\n",
       "      <td>10.989</td>\n",
       "      <td>562212</td>\n",
       "    </tr>\n",
       "    <tr>\n",
       "      <th>866</th>\n",
       "      <td>562213</td>\n",
       "      <td>Solid Waste Combustors and Incinerators</td>\n",
       "      <td>All GHGs</td>\n",
       "      <td>kg CO2e/2021 USD, purchaser price</td>\n",
       "      <td>2.166</td>\n",
       "      <td>0.000</td>\n",
       "      <td>2.166</td>\n",
       "      <td>562213</td>\n",
       "    </tr>\n",
       "  </tbody>\n",
       "</table>\n",
       "</div>"
      ],
      "text/plain": [
       "     2017 NAICS Code                          2017 NAICS Title       GHG  \\\n",
       "2             111130                  Dry Pea and Bean Farming  All GHGs   \n",
       "3             111140                             Wheat Farming  All GHGs   \n",
       "4             111150                              Corn Farming  All GHGs   \n",
       "5             111160                              Rice Farming  All GHGs   \n",
       "6             111191     Oilseed and Grain Combination Farming  All GHGs   \n",
       "7             111199                   All Other Grain Farming  All GHGs   \n",
       "30            112111          Beef Cattle Ranching and Farming  All GHGs   \n",
       "31            112112                           Cattle Feedlots  All GHGs   \n",
       "32            112120          Dairy Cattle and Milk Production  All GHGs   \n",
       "33            112130  Dual-Purpose Cattle Ranching and Farming  All GHGs   \n",
       "244           325311      Nitrogenous Fertilizer Manufacturing  All GHGs   \n",
       "245           325312       Phosphatic Fertilizer Manufacturing  All GHGs   \n",
       "246           325314    Fertilizer (Mixing Only) Manufacturing  All GHGs   \n",
       "285           327310                      Cement Manufacturing  All GHGs   \n",
       "865           562212                      Solid Waste Landfill  All GHGs   \n",
       "866           562213   Solid Waste Combustors and Incinerators  All GHGs   \n",
       "\n",
       "                                  Unit  \\\n",
       "2    kg CO2e/2021 USD, purchaser price   \n",
       "3    kg CO2e/2021 USD, purchaser price   \n",
       "4    kg CO2e/2021 USD, purchaser price   \n",
       "5    kg CO2e/2021 USD, purchaser price   \n",
       "6    kg CO2e/2021 USD, purchaser price   \n",
       "7    kg CO2e/2021 USD, purchaser price   \n",
       "30   kg CO2e/2021 USD, purchaser price   \n",
       "31   kg CO2e/2021 USD, purchaser price   \n",
       "32   kg CO2e/2021 USD, purchaser price   \n",
       "33   kg CO2e/2021 USD, purchaser price   \n",
       "244  kg CO2e/2021 USD, purchaser price   \n",
       "245  kg CO2e/2021 USD, purchaser price   \n",
       "246  kg CO2e/2021 USD, purchaser price   \n",
       "285  kg CO2e/2021 USD, purchaser price   \n",
       "865  kg CO2e/2021 USD, purchaser price   \n",
       "866  kg CO2e/2021 USD, purchaser price   \n",
       "\n",
       "     Supply Chain Emission Factors without Margins  \\\n",
       "2                                            2.874   \n",
       "3                                            2.874   \n",
       "4                                            2.874   \n",
       "5                                            2.874   \n",
       "6                                            2.874   \n",
       "7                                            2.874   \n",
       "30                                           3.227   \n",
       "31                                           3.227   \n",
       "32                                           2.502   \n",
       "33                                           3.227   \n",
       "244                                          2.029   \n",
       "245                                          2.029   \n",
       "246                                          2.029   \n",
       "285                                          3.768   \n",
       "865                                         10.989   \n",
       "866                                          2.166   \n",
       "\n",
       "     Margins of Supply Chain Emission Factors  \\\n",
       "2                                       0.134   \n",
       "3                                       0.134   \n",
       "4                                       0.134   \n",
       "5                                       0.134   \n",
       "6                                       0.134   \n",
       "7                                       0.134   \n",
       "30                                      0.071   \n",
       "31                                      0.071   \n",
       "32                                      0.076   \n",
       "33                                      0.071   \n",
       "244                                     0.086   \n",
       "245                                     0.086   \n",
       "246                                     0.086   \n",
       "285                                     0.090   \n",
       "865                                     0.000   \n",
       "866                                     0.000   \n",
       "\n",
       "     Supply Chain Emission Factors with Margins Reference USEEIO Code  \n",
       "2                                         3.007                1111B0  \n",
       "3                                         3.007                1111B0  \n",
       "4                                         3.007                1111B0  \n",
       "5                                         3.007                1111B0  \n",
       "6                                         3.007                1111B0  \n",
       "7                                         3.007                1111B0  \n",
       "30                                        3.298                1121A0  \n",
       "31                                        3.298                1121A0  \n",
       "32                                        2.578                112120  \n",
       "33                                        3.298                1121A0  \n",
       "244                                       2.115                325310  \n",
       "245                                       2.115                325310  \n",
       "246                                       2.115                325310  \n",
       "285                                       3.858                327310  \n",
       "865                                      10.989                562212  \n",
       "866                                       2.166                562213  "
      ]
     },
     "execution_count": 24,
     "metadata": {},
     "output_type": "execute_result"
    }
   ],
   "source": [
    "high_emissions = emissions_df[emissions_df[\"Supply Chain Emission Factors without Margins\"] > 2]\n",
    "high_emissions"
   ]
  },
  {
   "cell_type": "markdown",
   "id": "5be46a19",
   "metadata": {},
   "source": [
    "I noticed that there are only three sets of NAICS codes sharing the first couple digits. So the highest-emission industries seem concentrated in a few areas: \n",
    "\n",
    "| NAICS Code Prefix | Business Type |\n",
    "| --- | --- |\n",
    "| 11 | Agriculture, Forestry, Fishing and Hunting |\n",
    "| 32 | Manufacturing |\n",
    "| 56 | Administrative and Support and Waste Management and Remediation Services |\n",
    "\n",
    "NAICS descriptions obtained from [census.gov](https://www.census.gov/programs-surveys/economic-census/year/2022/guidance/understanding-naics.html). \n",
    "\n",
    "We can also confirm that the `10.989` value is not an outlier after all. It is associated with landfills for solid waste (row 865 of the table above), which likely give off huge amounts of methane on top of the emissions from transport. "
   ]
  },
  {
   "cell_type": "markdown",
   "id": "2ddaf4ea",
   "metadata": {},
   "source": [
    "## Questions/Discussion\n",
    "- Will the small size of 1016 rows limit what I can do with the data? \n",
    "    - I'm concerned that 1000 rows may count as a smaller dataset, but on the other hand, these statistics are clearly ecalculated from much larger datasets. \n",
    "- However, the NAICS classification codes do provide another axis along which we can create visualizations or restrict the dataset. \n",
    "- For example, the general public may be interested in the trends in the broader categories, whereas individuals in a specific industry might want to know how their stacks up against industries in a similar NAICS category.\n",
    "- Do the summary statistics provide any clear trend at more granular levels, e.g. between 100000 and 200000, 200000 and 300000, etc.?\n",
    "\n",
    "## Summary of the Dataset\n",
    "The data offers a categorical breakdown of greenhouse gas emissions according to industry type. 1016 unique industry classifications are represented in the dataset. "
   ]
  }
 ],
 "metadata": {
  "kernelspec": {
   "display_name": "Python 3 (ipykernel)",
   "language": "python",
   "name": "python3"
  },
  "language_info": {
   "codemirror_mode": {
    "name": "ipython",
    "version": 3
   },
   "file_extension": ".py",
   "mimetype": "text/x-python",
   "name": "python",
   "nbconvert_exporter": "python",
   "pygments_lexer": "ipython3",
   "version": "3.11.5"
  }
 },
 "nbformat": 4,
 "nbformat_minor": 5
}
